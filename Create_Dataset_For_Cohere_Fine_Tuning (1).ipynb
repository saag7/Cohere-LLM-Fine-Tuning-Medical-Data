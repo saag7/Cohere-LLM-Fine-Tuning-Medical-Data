{
  "nbformat": 4,
  "nbformat_minor": 0,
  "metadata": {
    "colab": {
      "provenance": []
    },
    "kernelspec": {
      "name": "python3",
      "display_name": "Python 3"
    },
    "language_info": {
      "name": "python"
    }
  },
  "cells": [
    {
      "cell_type": "code",
      "source": [
        "import json"
      ],
      "metadata": {
        "id": "ttUWh0ojOHnw"
      },
      "execution_count": 15,
      "outputs": []
    },
    {
      "cell_type": "code",
      "source": [
        "chemicals = True\n",
        "diseases = True\n",
        "\n",
        "if chemicals and diseases: output = \"both\"\n",
        "elif chemicals: output = \"chemical\"\n",
        "elif diseases: output = \"disease\""
      ],
      "metadata": {
        "id": "Pzl9rdzEAR8r"
      },
      "execution_count": 16,
      "outputs": []
    },
    {
      "cell_type": "code",
      "source": [
        "!wget https://raw.githubusercontent.com/towardsai/rag-ebook-files/main/bc5cdr.json"
      ],
      "metadata": {
        "id": "ioswvNcj0cDq",
        "colab": {
          "base_uri": "https://localhost:8080/"
        },
        "outputId": "060b3e93-8600-471e-bb82-f33ffacbbf7a"
      },
      "execution_count": 18,
      "outputs": [
        {
          "output_type": "stream",
          "name": "stdout",
          "text": [
            "--2024-09-14 17:39:51--  https://raw.githubusercontent.com/towardsai/rag-ebook-files/main/bc5cdr.json\n",
            "Resolving raw.githubusercontent.com (raw.githubusercontent.com)... 185.199.108.133, 185.199.109.133, 185.199.110.133, ...\n",
            "Connecting to raw.githubusercontent.com (raw.githubusercontent.com)|185.199.108.133|:443... connected.\n",
            "HTTP request sent, awaiting response... 200 OK\n",
            "Length: 6811964 (6.5M) [text/plain]\n",
            "Saving to: ‘bc5cdr.json.2’\n",
            "\n",
            "\rbc5cdr.json.2         0%[                    ]       0  --.-KB/s               \rbc5cdr.json.2       100%[===================>]   6.50M  --.-KB/s    in 0.09s   \n",
            "\n",
            "2024-09-14 17:39:51 (70.9 MB/s) - ‘bc5cdr.json.2’ saved [6811964/6811964]\n",
            "\n"
          ]
        }
      ]
    },
    {
      "cell_type": "code",
      "source": [
        "with open('bc5cdr.json') as json_file:\n",
        "    data = json.load(json_file)"
      ],
      "metadata": {
        "id": "ugqgWcnsykAX"
      },
      "execution_count": 19,
      "outputs": []
    },
    {
      "cell_type": "code",
      "source": [
        "train = 0\n",
        "test = 0\n",
        "develop = 0\n",
        "for item in data:\n",
        "  if item['dataset_type'] == \"train\": train+=1\n",
        "  if item['dataset_type'] == \"test\": test+=1\n",
        "  if item['dataset_type'] == \"develop\": develop+=1\n",
        "\n",
        "print(train, test, develop)"
      ],
      "metadata": {
        "colab": {
          "base_uri": "https://localhost:8080/"
        },
        "id": "aSByWlK1ywwo",
        "outputId": "29662816-9c16-4ba6-b613-ca8c1f25f679"
      },
      "execution_count": 20,
      "outputs": [
        {
          "output_type": "stream",
          "name": "stdout",
          "text": [
            "500 500 500\n"
          ]
        }
      ]
    },
    {
      "cell_type": "markdown",
      "source": [
        "# Get Diseases/Chemicals"
      ],
      "metadata": {
        "id": "bg1zmJIg567d"
      }
    },
    {
      "cell_type": "code",
      "source": [
        "instruction = \"The following article contains technical terms including diseases, drugs and chemicals. Create a list only of the {} mentioned.\\n\\n\"\n",
        "outstruction = \"\\n\\nList of extracted {}:\\n\""
      ],
      "metadata": {
        "id": "CtTh6-yF6m4x"
      },
      "execution_count": 21,
      "outputs": []
    },
    {
      "cell_type": "code",
      "source": [
        "the_list = []\n",
        "for item in data:\n",
        "  chems = []\n",
        "  dis = []\n",
        "\n",
        "  if item['dataset_type'] == \"test\": continue;\n",
        "\n",
        "  for ent in item['passages'][1]['entities']:\n",
        "    if ent['type'] == \"Chemical\":\n",
        "      if ent['text'][0] not in chems:\n",
        "        chems.append( ent['text'][0] )\n",
        "\n",
        "    if ent['type'] == \"Disease\":\n",
        "      if ent['text'][0] not in dis:\n",
        "        dis.append( ent['text'][0] )\n",
        "\n",
        "  if chemicals: the_list.append({'prompt': instruction.format(\"chemicals\") + item['passages'][1]['text'] + outstruction.format(\"chemicals\"), 'completion': \"- \"+ \"\\n- \".join(chems)})\n",
        "  if diseases: the_list.append({'prompt': instruction.format(\"diseases\") + item['passages'][1]['text'] + outstruction.format(\"diseases\"), 'completion': \"- \"+ \"\\n- \".join(dis)})"
      ],
      "metadata": {
        "id": "7c5vtBfm2ePM"
      },
      "execution_count": 22,
      "outputs": []
    },
    {
      "cell_type": "markdown",
      "source": [
        "# Get Relationships"
      ],
      "metadata": {
        "id": "sqqlDfEI56QC"
      }
    },
    {
      "cell_type": "code",
      "source": [
        "instruction = \"The following article contains technical terms including diseases, drugs and chemicals. Create a list only of the influences between the chemicals and diseases mentioned.\\n\\n\"\n",
        "outstruction = \"\\n\\nList of extracted influences:\\n\""
      ],
      "metadata": {
        "id": "13YPqlxTK7QI"
      },
      "execution_count": 23,
      "outputs": []
    },
    {
      "cell_type": "code",
      "source": [
        "the_list_rel = []\n",
        "for item in data:\n",
        "  if item['dataset_type'] == \"test\": continue;\n",
        "\n",
        "  the_relations = []\n",
        "  for rel in item['passages'][1]['relations']:\n",
        "    chem_found = False\n",
        "    dis_found = False\n",
        "    chem = None\n",
        "    dis = None\n",
        "    for ent in item['passages'][0]['entities'] + item['passages'][1]['entities']:\n",
        "      if len( ent['normalized'] ):\n",
        "        if rel['arg1_id'] == ent['normalized'][0]['db_id'] and not chem_found: # Chemical\n",
        "          chem = ent['text'][0]\n",
        "          chem_found = True\n",
        "\n",
        "        if rel['arg2_id'] == ent['normalized'][0]['db_id'] and not dis_found: # Disease\n",
        "          dis_found = True\n",
        "          dis = ent['text'][0]\n",
        "\n",
        "    the_relations.append( f\"- Chemical {chem} influences disease {dis}\" )\n",
        "\n",
        "  the_list_rel.append( {\"prompt\": instruction + item['passages'][1]['text'] + outstruction, \"completion\": \"\\n\".join(the_relations)} )"
      ],
      "metadata": {
        "id": "cViLt2aJ5_YP"
      },
      "execution_count": 24,
      "outputs": []
    },
    {
      "cell_type": "code",
      "source": [
        "the_list = the_list + the_list_rel"
      ],
      "metadata": {
        "id": "fwQL1Nj8Rg7E"
      },
      "execution_count": 30,
      "outputs": []
    },
    {
      "cell_type": "code",
      "source": [
        "len( the_list )"
      ],
      "metadata": {
        "colab": {
          "base_uri": "https://localhost:8080/"
        },
        "id": "Pq25an-5RyW2",
        "outputId": "a8c5593f-2d9d-4808-b931-fbe92109b7bb"
      },
      "execution_count": 31,
      "outputs": [
        {
          "output_type": "execute_result",
          "data": {
            "text/plain": [
              "4000"
            ]
          },
          "metadata": {},
          "execution_count": 31
        }
      ]
    },
    {
      "cell_type": "code",
      "source": [
        "# Writing to sample.json\n",
        "with open(f\"{output}_rel_instruct_all.jsonl\", \"w\") as outfile:\n",
        "  for item in the_list:\n",
        "    outfile.write(json.dumps(item) + \"\\n\")"
      ],
      "metadata": {
        "id": "VxpnDPVm2eFc"
      },
      "execution_count": 32,
      "outputs": []
    }
  ]
}