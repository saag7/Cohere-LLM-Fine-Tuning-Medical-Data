{
  "nbformat": 4,
  "nbformat_minor": 0,
  "metadata": {
    "colab": {
      "provenance": []
    },
    "kernelspec": {
      "name": "python3",
      "display_name": "Python 3"
    },
    "language_info": {
      "name": "python"
    }
  },
  "cells": [
    {
      "cell_type": "code",
      "execution_count": 2,
      "metadata": {
        "id": "pARS0h0AFaNS"
      },
      "outputs": [],
      "source": [
        "#Cohere installation\n",
        "!pip -q install cohere"
      ]
    },
    {
      "cell_type": "code",
      "source": [
        "# we build a Cohere object with the API key\n",
        "import cohere\n",
        "co = cohere.Client(\"\")"
      ],
      "metadata": {
        "id": "Aq0K8Pg7Fdrm"
      },
      "execution_count": 3,
      "outputs": []
    },
    {
      "cell_type": "markdown",
      "source": [
        "# 1. Chemicals"
      ],
      "metadata": {
        "id": "enlhjCUwOVMy"
      }
    },
    {
      "cell_type": "code",
      "source": [
        "prompt = \"\"\"The following article contains technical terms including diseases, drugs and chemicals. Create a list only of the chemicals mentioned.\n",
        "\n",
        "To test the validity of the hypothesis that hypomethylation of DNA plays an important role in the initiation of carcinogenic process, 5-azacytidine (5-AzC) (10 mg/kg), an inhibitor of DNA methylation, was given to rats during the phase of repair synthesis induced by the three carcinogens, benzo[a]-pyrene (200 mg/kg), N-methyl-N-nitrosourea (60 mg/kg) and 1,2-dimethylhydrazine (1,2-DMH) (100 mg/kg). The initiated hepatocytes in the liver were assayed as the gamma-glutamyltransferase (gamma-GT) positive foci formed following a 2-week selection regimen consisting of dietary 0.02% 2-acetylaminofluorene coupled with a necrogenic dose of CCl4. The results obtained indicate that with all three carcinogens, administration of 5-AzC during repair synthesis increased the incidence of initiated hepatocytes, for example 10-20 foci/cm2 in 5-AzC and carcinogen-treated rats compared with 3-5 foci/cm2 in rats treated with carcinogen only. Administration of [3H]-5-azadeoxycytidine during the repair synthesis induced by 1,2-DMH further showed that 0.019 mol % of cytosine residues in DNA were substituted by the analogue, indicating that incorporation of 5-AzC occurs during repair synthesis. In the absence of the carcinogen, 5-AzC given after a two thirds partial hepatectomy, when its incorporation should be maximum, failed to induce any gamma-GT positive foci. The results suggest that hypomethylation of DNA per se may not be sufficient for initiation. Perhaps two events might be necessary for initiation, the first caused by the carcinogen and a second involving hypomethylation of DNA.\n",
        "\n",
        "List of extracted chemicals:\"\"\""
      ],
      "metadata": {
        "id": "Xf0Ow1usOjRk"
      },
      "execution_count": null,
      "outputs": []
    },
    {
      "cell_type": "markdown",
      "source": [
        "#### Base (Cohere)"
      ],
      "metadata": {
        "id": "8HqecRCAOalV"
      }
    },
    {
      "cell_type": "code",
      "source": [
        "response = co.generate(\n",
        "    model='command-nightly',\n",
        "    prompt = prompt,\n",
        "    max_tokens=200,\n",
        "    temperature=0.750)\n",
        "\n",
        "base_model = response.generations[0].text\n",
        "\n",
        "print( base_model )"
      ],
      "metadata": {
        "colab": {
          "base_uri": "https://localhost:8080/"
        },
        "id": "jGUgvIQXOcBP",
        "outputId": "9cde699a-b2a2-47d0-b4d6-6cc64b35f7a1"
      },
      "execution_count": null,
      "outputs": [
        {
          "output_type": "stream",
          "name": "stdout",
          "text": [
            " - 5-azacytidine (5-AzC)\n",
            "- benzo[a]-pyrene\n",
            "- N-methyl-N-nitrosourea\n",
            "- 1,2-dimethylhydrazine\n",
            "- CCl4\n",
            "- 2-acetylaminofluorene\n"
          ]
        }
      ]
    },
    {
      "cell_type": "markdown",
      "source": [
        "#### Custom"
      ],
      "metadata": {
        "id": "SQBzoUkGOaZY"
      }
    },
    {
      "cell_type": "code",
      "source": [
        "response = co.generate(\n",
        "    model='1715f1cb-3294-46a2-8631-5182031e6a5d-ft',\n",
        "    prompt = prompt,\n",
        "    max_tokens=200,\n",
        "    temperature=0.750)\n",
        "\n",
        "diesease_model = response.generations[0].text\n",
        "\n",
        "print( diesease_model )"
      ],
      "metadata": {
        "colab": {
          "base_uri": "https://localhost:8080/"
        },
        "id": "RxPYTMk3ObiP",
        "outputId": "3a3ce5ab-922c-4a42-b895-1c455741769d"
      },
      "execution_count": null,
      "outputs": [
        {
          "output_type": "stream",
          "name": "stdout",
          "text": [
            " - 5-azacytidine\n",
            "- 5-AzC\n",
            "- benzo[a]-pyrene\n",
            "- N-methyl-N-nitrosourea\n",
            "- 1,2-dimethylhydrazine\n",
            "- 1,2-DMH\n",
            "- 2-acetylaminofluorene\n",
            "- CCl4\n",
            "- [3H]-5-azadeoxycytidine\n",
            "- cytosine\n"
          ]
        }
      ]
    },
    {
      "cell_type": "markdown",
      "source": [
        "# 2. Relationships"
      ],
      "metadata": {
        "id": "fRDuQN19C-Gf"
      }
    },
    {
      "cell_type": "code",
      "source": [
        "prompt = \"\"\"The following article contains technical terms including diseases, drugs and chemicals. Create a list only of the influences between the chemicals and diseases mentioned.\n",
        "\n",
        "The yield of severe cirrhosis of the liver (defined as a shrunken finely nodular liver with micronodular histology, ascites greater than 30 ml, plasma albumin less than 2.2 g/dl, splenomegaly 2-3 times normal, and testicular atrophy approximately half normal weight) after 12 doses of carbon tetrachloride given intragastrically in the phenobarbitone-primed rat was increased from 25% to 56% by giving the initial \"calibrating\" dose of carbon tetrachloride at the peak of the phenobarbitone-induced enlargement of the liver. At this point it was assumed that the cytochrome P450/CCl4 toxic state was both maximal and stable. The optimal rat size to begin phenobarbitone was determined as 100 g, and this size as a group had a mean maximum relative liver weight increase 47% greater than normal rats of the same body weight. The optimal time for the initial dose of carbon tetrachloride was after 14 days on phenobarbitone.\n",
        "\n",
        "nList of extracted influences:\"\"\""
      ],
      "metadata": {
        "id": "Wb8v-WqbDELT"
      },
      "execution_count": null,
      "outputs": []
    },
    {
      "cell_type": "markdown",
      "source": [
        "#### Base (Cohere)"
      ],
      "metadata": {
        "id": "00NsBCjMDSxr"
      }
    },
    {
      "cell_type": "code",
      "source": [
        "response = co.generate(\n",
        "    model='command-nightly',\n",
        "    prompt = prompt,\n",
        "    max_tokens=200,\n",
        "    temperature=0.750)\n",
        "\n",
        "base_model = response.generations[0].text\n",
        "\n",
        "print( base_model )"
      ],
      "metadata": {
        "colab": {
          "base_uri": "https://localhost:8080/"
        },
        "id": "MAUGHhvyDQ-t",
        "outputId": "83aab5dc-3d34-4369-a8a3-6e63de21abb7"
      },
      "execution_count": null,
      "outputs": [
        {
          "output_type": "stream",
          "name": "stdout",
          "text": [
            " severe cirrhosis of the liver influences shrinking, finely nodular, ascites, plasma albumin, splenomegaly, testicular atrophy, carbon tetrachloride, phenobarbitone\n"
          ]
        }
      ]
    },
    {
      "cell_type": "markdown",
      "source": [
        "#### Custom"
      ],
      "metadata": {
        "id": "ciFL2-IpDUki"
      }
    },
    {
      "cell_type": "code",
      "source": [
        "response = co.generate(\n",
        "    model='1715f1cb-3294-46a2-8631-5182031e6a5d-ft',\n",
        "    prompt = prompt,\n",
        "    max_tokens=200,\n",
        "    temperature=0.750)\n",
        "\n",
        "diesease_model = response.generations[0].text\n",
        "\n",
        "print( diesease_model )"
      ],
      "metadata": {
        "colab": {
          "base_uri": "https://localhost:8080/"
        },
        "id": "AOcDc0maDSaP",
        "outputId": "5391b5fd-ab34-427b-87a9-d3c207090df7"
      },
      "execution_count": null,
      "outputs": [
        {
          "output_type": "stream",
          "name": "stdout",
          "text": [
            " - Chemical phenobarbitone influences disease cirrhosis of the liver\n",
            "- Chemical carbon tetrachloride influences disease cirrhosis of the liver\n"
          ]
        }
      ]
    },
    {
      "cell_type": "code",
      "source": [],
      "metadata": {
        "id": "qG0YpKk-DSP1"
      },
      "execution_count": null,
      "outputs": []
    }
  ]
}